{
 "cells": [
  {
   "cell_type": "code",
   "execution_count": 1,
   "id": "da71748c",
   "metadata": {},
   "outputs": [],
   "source": [
    "import pandas as pd\n",
    "import numpy as np\n",
    "import matplotlib.pyplot as plt\n",
    "import seaborn as sns"
   ]
  },
  {
   "cell_type": "code",
   "execution_count": 2,
   "id": "bdfd9e37",
   "metadata": {},
   "outputs": [],
   "source": [
    "df = pd.read_csv(\"/content/loan_default_dataset.csv\")"
   ]
  },
  {
   "cell_type": "code",
   "execution_count": 3,
   "id": "82fc04e9",
   "metadata": {},
   "outputs": [],
   "source": [
    "df = pd.read_csv(\"/content/loan_default_dataset.csv\")\n",
    "df"
   ]
  },
  {
   "cell_type": "code",
   "execution_count": 4,
   "id": "76fe673d",
   "metadata": {},
   "outputs": [],
   "source": [
    "df = df.drop(['loan_id'], axis=1)\n",
    "df"
   ]
  },
  {
   "cell_type": "code",
   "execution_count": 5,
   "id": "dd1e1956",
   "metadata": {},
   "outputs": [],
   "source": [
    "mean_age = df['Age'].mean()\n",
    "df['Age'].fillna(mean_age, inplace=True)\n",
    "display(df.head())"
   ]
  },
  {
   "cell_type": "code",
   "execution_count": 6,
   "id": "d74dfc87",
   "metadata": {},
   "outputs": [],
   "source": [
    "mode_employment = df['Employment Type'].mode()[0]\n",
    "df['Employment Type'] = df['Employment Type'].fillna(mode_employment)\n",
    "display(df.head())"
   ]
  },
  {
   "cell_type": "code",
   "execution_count": 7,
   "id": "7b38bff0",
   "metadata": {},
   "outputs": [],
   "source": [
    "missing_values = df.isnull().sum()\n",
    "print(\"Missing values per column:\")\n",
    "print(missing_values)"
   ]
  },
  {
   "cell_type": "code",
   "execution_count": 8,
   "id": "0e2ef125",
   "metadata": {},
   "outputs": [],
   "source": [
    "print(missing_values)"
   ]
  },
  {
   "cell_type": "code",
   "execution_count": 9,
   "id": "07d51fc0",
   "metadata": {},
   "outputs": [],
   "source": [
    "print(\"Data types of columns with missing values:\")\n",
    "print(df[['Gender', 'Education', 'Marital Status', 'Annual Income', 'Job Stability (Years)', 'Loan Amount', 'Loan Type', 'Tenure (Months)', 'Interest Rate (%)', 'Previous Loans', 'Past Defaults', 'Debt-to-Income Ratio', 'Credit Utilization']].dtypes)"
   ]
  },
  {
   "cell_type": "code",
   "execution_count": 10,
   "id": "58bea4ed",
   "metadata": {},
   "outputs": [],
   "source": [
    "for col in ['Gender', 'Education', 'Marital Status', 'Loan Type']:\n",
    "    mode_val = df[col].mode()[0]\n",
    "    df[col] = df[col].fillna(mode_val)\n",
    "\n",
    "for col in ['Annual Income', 'Job Stability (Years)', 'Loan Amount', 'Tenure (Months)', 'Interest Rate (%)', 'Previous Loans', 'Past Defaults', 'Debt-to-Income Ratio', 'Credit Utilization']:\n",
    "    median_val = df[col].median()\n",
    "    df[col] = df[col].fillna(median_val)\n",
    "\n",
    "display(df.head())"
   ]
  },
  {
   "cell_type": "code",
   "execution_count": 11,
   "id": "8c0021bf",
   "metadata": {},
   "outputs": [],
   "source": [
    "missing_values_after_imputation = df.isnull().sum()\n",
    "print(\"Missing values per column after imputation:\")\n",
    "print(missing_values_after_imputation)"
   ]
  },
  {
   "cell_type": "code",
   "execution_count": 12,
   "id": "ab4b0b3a",
   "metadata": {},
   "outputs": [],
   "source": [
    "missing_values_after_imputation = df.isnull().sum()\n",
    "print(\"Missing values per column after imputation:\")\n",
    "print(missing_values_after_imputation)"
   ]
  },
  {
   "cell_type": "code",
   "execution_count": 13,
   "id": "cd2887b0",
   "metadata": {},
   "outputs": [],
   "source": [
    "df.head(10)"
   ]
  },
  {
   "cell_type": "code",
   "execution_count": 14,
   "id": "a0fec33a",
   "metadata": {},
   "outputs": [],
   "source": [
    "df.remove(df[\"default\"])"
   ]
  },
  {
   "cell_type": "code",
   "execution_count": 15,
   "id": "9e6901a6",
   "metadata": {},
   "outputs": [],
   "source": [
    "df.drop(df[\"default\"])"
   ]
  },
  {
   "cell_type": "code",
   "execution_count": 16,
   "id": "8b9e8a14",
   "metadata": {},
   "outputs": [],
   "source": [
    "df.drop(df[\"Default\"])"
   ]
  },
  {
   "cell_type": "code",
   "execution_count": 17,
   "id": "9aff058e",
   "metadata": {},
   "outputs": [],
   "source": [
    "df.drop(columns=[\"Default\"], inplace=True)\n",
    "display(df.head())"
   ]
  },
  {
   "cell_type": "code",
   "execution_count": 18,
   "id": "3b7dc4d3",
   "metadata": {},
   "outputs": [],
   "source": [
    "df['Monthly Debt'] = df['Loan Amount'] / df['Tenure (Months)']\n",
    "display(df.head())"
   ]
  },
  {
   "cell_type": "code",
   "execution_count": 19,
   "id": "5265d95c",
   "metadata": {},
   "outputs": [],
   "source": [
    "df['Monthly Income'] = df['Annual Income'] / 12\n",
    "display(df.head())"
   ]
  },
  {
   "cell_type": "code",
   "execution_count": 20,
   "id": "4d48f45b",
   "metadata": {},
   "outputs": [],
   "source": [
    "new_debt_to_income = df['Monthly Debt'] / df['Monthly Income']"
   ]
  },
  {
   "cell_type": "code",
   "execution_count": 21,
   "id": "e2a5ae71",
   "metadata": {},
   "outputs": [],
   "source": [
    "new_debt_to_income = df['Monthly Debt'] / df['Monthly Income']"
   ]
  },
  {
   "cell_type": "code",
   "execution_count": 22,
   "id": "9da2339e",
   "metadata": {},
   "outputs": [],
   "source": [
    "df['Debt-to-Income Ratio'] = new_debt_to_income\n",
    "display(df.head())"
   ]
  },
  {
   "cell_type": "code",
   "execution_count": 23,
   "id": "e9147f4c",
   "metadata": {},
   "outputs": [],
   "source": [
    "new_debt_to_income = df['Monthly Debt'] / df['Monthly Income']"
   ]
  },
  {
   "cell_type": "code",
   "execution_count": 24,
   "id": "7bfda8ba",
   "metadata": {},
   "outputs": [],
   "source": [
    "new_debt_to_income = df['Monthly Debt'] / df['Monthly Income']\n",
    "df.head(10)"
   ]
  },
  {
   "cell_type": "code",
   "execution_count": 25,
   "id": "17b67828",
   "metadata": {},
   "outputs": [],
   "source": [
    "df = pd.to_csv(\"loan_default_dataset_cleaned.csv\")"
   ]
  },
  {
   "cell_type": "code",
   "execution_count": 26,
   "id": "2fc371da",
   "metadata": {},
   "outputs": [],
   "source": [
    "pd.to_csv(\"loan_default_dataset_cleaned.csv\")"
   ]
  },
  {
   "cell_type": "code",
   "execution_count": 27,
   "id": "3318fab3",
   "metadata": {},
   "outputs": [],
   "source": [
    "df.to_csv(\"loan_default_dataset_cleaned.csv\", index=False)"
   ]
  },
  {
   "cell_type": "code",
   "execution_count": 28,
   "id": "c979ca6c",
   "metadata": {},
   "outputs": [],
   "source": [
    "from google.colab import files\n",
    "\n",
    "files.download('loan_default_dataset_cleaned.csv')"
   ]
  },
  {
   "cell_type": "code",
   "execution_count": 29,
   "id": "3e02b86c",
   "metadata": {},
   "outputs": [],
   "source": [
    "from google.colab import files\n",
    "\n",
    "files.download('loan_default_dataset_cleaned.csv')"
   ]
  },
  {
   "cell_type": "code",
   "execution_count": 30,
   "id": "79892d87",
   "metadata": {},
   "outputs": [],
   "source": [
    "df['Age'] = df['Age'].astype(int)\n",
    "display(df.dtypes)"
   ]
  },
  {
   "cell_type": "code",
   "execution_count": 31,
   "id": "be1d5272",
   "metadata": {},
   "outputs": [],
   "source": [
    "df.head(10)"
   ]
  },
  {
   "cell_type": "code",
   "execution_count": 32,
   "id": "e091ee54",
   "metadata": {},
   "outputs": [],
   "source": [
    "df['Monthly Income'] = df['Monthly Income'].round().astype(int)\n",
    "display(df.head())"
   ]
  },
  {
   "cell_type": "code",
   "execution_count": 33,
   "id": "6a5f2e33",
   "metadata": {},
   "outputs": [],
   "source": [
    "df['Monthly Debt'] = df['Monthly Debt'].round(2)\n",
    "display(df.head())"
   ]
  },
  {
   "cell_type": "code",
   "execution_count": 34,
   "id": "5bd376f1",
   "metadata": {},
   "outputs": [],
   "source": [
    "print(df['Tenure (Months)'].dtype)\n",
    "print(df['Tenure (Months)'].head())"
   ]
  },
  {
   "cell_type": "code",
   "execution_count": 35,
   "id": "5556cb33",
   "metadata": {},
   "outputs": [],
   "source": [
    "print(df['Tenure (Months)'].dtype)\n",
    "print(df['Tenure (Months)'].head(30))"
   ]
  },
  {
   "cell_type": "code",
   "execution_count": 36,
   "id": "f0a40111",
   "metadata": {},
   "outputs": [],
   "source": [
    "print(df['Tenure (Months)'].dtype)\n",
    "print(df['Tenure (Months)'].head(100))"
   ]
  },
  {
   "cell_type": "code",
   "execution_count": 37,
   "id": "2b8b1138",
   "metadata": {},
   "outputs": [],
   "source": [
    "# Recheck if there are any decimal values\n",
    "has_decimals = (df['Tenure (Months)'] != df['Tenure (Months)'].astype(int)).any()\n",
    "\n",
    "if not has_decimals:\n",
    "    df['Tenure (Months)'] = df['Tenure (Months hospitable'].astype(int)\n",
    "    print(\"'Tenure (Months)' column converted to integer.\")\n",
    "else:\n",
    "    print(\"'Tenure (Months)' column still has decimal values.\")\n",
    "\n",
    "display(df.head())"
   ]
  },
  {
   "cell_type": "code",
   "execution_count": 38,
   "id": "fcfa2113",
   "metadata": {},
   "outputs": [],
   "source": [
    "# Recheck if there are any decimal values\n",
    "has_decimals = (df['Tenure (Months)'] != df['Tenure (Months)'].astype(int)).any()\n",
    "\n",
    "if not has_decimals:\n",
    "    df['Tenure (Months)'] = df['Tenure (Months)'].astype(int)\n",
    "    print(\"'Tenure (Months)' column converted to integer.\")\n",
    "else:\n",
    "    print(\"'Tenure (Months)' column still has decimal values.\")\n",
    "\n",
    "display(df.head())"
   ]
  },
  {
   "cell_type": "code",
   "execution_count": 39,
   "id": "7453b486",
   "metadata": {},
   "outputs": [],
   "source": [
    "df['Monthly Debt'] = df['Monthly Debt'].round(2)\n",
    "display(df.head())"
   ]
  },
  {
   "cell_type": "code",
   "execution_count": 40,
   "id": "13fa84c8",
   "metadata": {},
   "outputs": [],
   "source": [
    "df['Monthly Income'] = df['Monthly Income'].round().astype(int)\n",
    "display(df.head())"
   ]
  },
  {
   "cell_type": "code",
   "execution_count": 41,
   "id": "044fe382",
   "metadata": {},
   "outputs": [],
   "source": [
    "df.to_csv(\"loan_default_dataset_cleaned.csv\")"
   ]
  },
  {
   "cell_type": "code",
   "execution_count": 42,
   "id": "e5c7f34d",
   "metadata": {},
   "outputs": [],
   "source": [
    "from google.colab import files\n",
    "\n",
    "# Download the cleaned CSV file\n",
    "files.download('loan_default_dataset_cleaned.csv')\n",
    "\n",
    "# Save and download the notebook file\n",
    "%notebook \"loan_default_notebook.ipynb\"\n",
    "files.download(\"loan_default_notebook.ipynb\")"
   ]
  },
  {
   "cell_type": "code",
   "execution_count": 43,
   "id": "6567dba5",
   "metadata": {},
   "outputs": [],
   "source": [
    "from google.colab import files\n",
    "import os\n",
    "\n",
    "# Download the cleaned CSV file\n",
    "files.download('loan_default_dataset_cleaned.csv')\n",
    "\n",
    "# Define the notebook path\n",
    "notebook_path = '/content/loan_default_notebook.ipynb'\n",
    "\n",
    "# Save the notebook file\n",
    "%notebook {notebook_path}\n",
    "\n",
    "# Download the notebook file\n",
    "files.download(notebook_path)"
   ]
  },
  {
   "cell_type": "code",
   "execution_count": 44,
   "id": "346429bb",
   "metadata": {},
   "outputs": [],
   "source": [
    "from google.colab import files\n",
    "\n",
    "# Define the notebook path\n",
    "notebook_path = '/content/loan_default_analysis.ipynb'\n",
    "\n",
    "# Save the notebook file\n",
    "%notebook {notebook_path}\n",
    "\n",
    "# Download the notebook file\n",
    "files.download(notebook_path)"
   ]
  }
 ],
 "metadata": {},
 "nbformat": 4,
 "nbformat_minor": 5
}
